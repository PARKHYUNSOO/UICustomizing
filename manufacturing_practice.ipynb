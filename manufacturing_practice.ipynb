{
  "cells": [
    {
      "cell_type": "markdown",
      "metadata": {
        "id": "view-in-github",
        "colab_type": "text"
      },
      "source": [
        "<a href=\"https://colab.research.google.com/github/PARKHYUNSOO/UICustomizing/blob/master/manufacturing_practice.ipynb\" target=\"_parent\"><img src=\"https://colab.research.google.com/assets/colab-badge.svg\" alt=\"Open In Colab\"/></a>"
      ]
    },
    {
      "cell_type": "markdown",
      "metadata": {
        "id": "hERlOG9CRX-O"
      },
      "source": [
        "## Importing"
      ],
      "id": "hERlOG9CRX-O"
    },
    {
      "cell_type": "code",
      "execution_count": null,
      "metadata": {
        "id": "EM1sdJ0zRX-Q"
      },
      "outputs": [],
      "source": [
        "# Basic\n",
        "import pandas as pd\n",
        "import numpy as np\n",
        "import matplotlib.pyplot as plt\n",
        "\n",
        "# Sklearn Metrics\n",
        "from sklearn import metrics\n",
        "from sklearn.metrics import mean_squared_error as mse\n",
        "\n",
        "import warnings\n",
        "warnings.filterwarnings('ignore')"
      ],
      "id": "EM1sdJ0zRX-Q"
    },
    {
      "cell_type": "markdown",
      "metadata": {
        "id": "2j6ndC_RRX-R"
      },
      "source": [
        "## Data Loading"
      ],
      "id": "2j6ndC_RRX-R"
    },
    {
      "cell_type": "code",
      "execution_count": null,
      "metadata": {
        "id": "1AfqO5MERX-R"
      },
      "outputs": [],
      "source": [
        "train_df = pd.read_csv('train.csv', encoding = 'utf-8')\n",
        "val_df = pd.read_csv('val.csv', encoding = 'utf-8')\n",
        "test_df = pd.read_csv('test.csv', encoding = 'utf-8')"
      ],
      "id": "1AfqO5MERX-R"
    },
    {
      "cell_type": "code",
      "execution_count": null,
      "metadata": {
        "id": "KxLnIyFjRX-S"
      },
      "outputs": [],
      "source": [
        "train_df.columns"
      ],
      "id": "KxLnIyFjRX-S"
    },
    {
      "cell_type": "code",
      "execution_count": null,
      "metadata": {
        "id": "n8J3etU4RX-S"
      },
      "outputs": [],
      "source": [
        "train_df.head(5)"
      ],
      "id": "n8J3etU4RX-S"
    },
    {
      "cell_type": "markdown",
      "metadata": {
        "id": "V8BDMlISRX-S"
      },
      "source": [
        "## Prediction Model"
      ],
      "id": "V8BDMlISRX-S"
    },
    {
      "cell_type": "code",
      "execution_count": null,
      "metadata": {
        "id": "sTH1Cr2QRX-S"
      },
      "outputs": [],
      "source": [
        "# 데이터 구분\n",
        "train_x, train_y = train_df.drop(columns = ['y']), train_df[['y']]\n",
        "val_x, val_y = val_df.drop(columns = ['y']), val_df[['y']]\n",
        "test_x, test_y = test_df.drop(columns = ['y']), test_df[['y']]"
      ],
      "id": "sTH1Cr2QRX-S"
    },
    {
      "cell_type": "markdown",
      "metadata": {
        "id": "XrrzOW3PRX-S"
      },
      "source": [
        "### Linear Regression"
      ],
      "id": "XrrzOW3PRX-S"
    },
    {
      "cell_type": "code",
      "execution_count": null,
      "metadata": {
        "id": "YPSOXXKGRX-T"
      },
      "outputs": [],
      "source": [
        "# Linear Regression 학습\n",
        "from sklearn.linear_model import LinearRegression as LR\n",
        "\"\"\"\n",
        "Linear regression 학습\n",
        "lr = []\n",
        "\"\"\""
      ],
      "id": "YPSOXXKGRX-T"
    },
    {
      "cell_type": "code",
      "execution_count": null,
      "metadata": {
        "id": "GW4v3MH3RX-T"
      },
      "outputs": [],
      "source": [
        "# 결과\n",
        "lr_predict = lr.predict(test_x)\n",
        "lr_df = test_y.copy()\n",
        "lr_df['predict'] = lr_predict\n",
        "lr_df = lr_df.sort_values(['y']).reset_index()\n",
        "#lr_df = lr_df.sort_values(['predict']).reset_index()\n",
        "print('MSE : {}'.format(mse(test_y, lr_predict)))\n",
        "\n",
        "plt.figure(figsize = (10, 5))\n",
        "plt.plot(lr_df['y'], marker = 'o', ls = '', markersize = 3)\n",
        "plt.plot(lr_df['predict'], marker = 'o', ls = '', markersize = 3)\n",
        "plt.show()"
      ],
      "id": "GW4v3MH3RX-T"
    },
    {
      "cell_type": "markdown",
      "metadata": {
        "id": "j6P-FyEYRX-T"
      },
      "source": [
        "### Random Forest Regressor"
      ],
      "id": "j6P-FyEYRX-T"
    },
    {
      "cell_type": "code",
      "execution_count": null,
      "metadata": {
        "id": "GJPPLLmxRX-T"
      },
      "outputs": [],
      "source": [
        "# Random Forest 학습\n",
        "from sklearn.ensemble import RandomForestRegressor as RFR\n",
        "\"\"\"\n",
        "Random Forest 학습\n",
        "rfr = []\n",
        "\"\"\""
      ],
      "id": "GJPPLLmxRX-T"
    },
    {
      "cell_type": "code",
      "execution_count": null,
      "metadata": {
        "id": "YmZB8i7gRX-U"
      },
      "outputs": [],
      "source": [
        "# 결과\n",
        "rfr_predict = rfr.predict(test_x)\n",
        "rfr_df = test_y.copy()\n",
        "rfr_df['predict'] = rfr_predict\n",
        "rfr_df = rfr_df.sort_values(['y']).reset_index()\n",
        "print('MSE : {}'.format(mse(test_y, rfr_predict)))\n",
        "\n",
        "plt.figure(figsize = (10, 5))\n",
        "plt.plot(rfr_df['y'], marker = 'o', ls = '', markersize = 3)\n",
        "plt.plot(rfr_df['predict'], marker = 'o', ls = '', markersize = 3)\n",
        "plt.show()"
      ],
      "id": "YmZB8i7gRX-U"
    },
    {
      "cell_type": "markdown",
      "metadata": {
        "id": "_6Xw201fRX-U"
      },
      "source": [
        "### lightGBM"
      ],
      "id": "_6Xw201fRX-U"
    },
    {
      "cell_type": "code",
      "execution_count": null,
      "metadata": {
        "id": "Bf8BnP6QRX-U"
      },
      "outputs": [],
      "source": [
        "import lightgbm\n",
        "\n",
        "# lightgbm 용 데이터 만들기\n",
        "train_data = lightgbm.Dataset(train_x, label = train_y)\n",
        "val_data = lightgbm.Dataset(val_x, label = val_y)\n",
        "test_data = lightgbm.Dataset(test_x, label = test_y)\n",
        "\n",
        "# lightgbm 학습\n",
        "\"\"\"\n",
        "lightgbm\n",
        "params = {'learning_rate': [],\n",
        "          'max_depth': [],\n",
        "          'boosting': 'gbdt',\n",
        "          'objective': 'regression',\n",
        "          'metric': 'mse',\n",
        "          'is_training_metric': True,\n",
        "          'num_leaves': [],\n",
        "          'feature_fraction': 0.9,\n",
        "          'bagging_fraction': 0.7,\n",
        "          'bagging_freq': 5,\n",
        "          'seed':2018}\n",
        "model = []\n",
        "\"\"\"\n",
        "pass"
      ],
      "id": "Bf8BnP6QRX-U"
    },
    {
      "cell_type": "code",
      "execution_count": null,
      "metadata": {
        "id": "xHPwz6ryRX-U"
      },
      "outputs": [],
      "source": [
        "# 결과\n",
        "lightgbm_predict = model.predict(test_x)\n",
        "lightgbm_df = test_y.copy()\n",
        "lightgbm_df['predict'] = lightgbm_predict\n",
        "print('MSE : {}'.format(mse(test_y, lightgbm_predict)))\n",
        "lightgbm_df = lightgbm_df.sort_values(['y']).reset_index()\n",
        "\n",
        "plt.figure(figsize = (10, 5))\n",
        "plt.plot(lightgbm_df['y'], marker = 'o', ls = '', markersize = 3)\n",
        "plt.plot(lightgbm_df['predict'], marker = 'o', ls = '', markersize = 3)\n",
        "plt.show()"
      ],
      "id": "xHPwz6ryRX-U"
    },
    {
      "cell_type": "markdown",
      "metadata": {
        "id": "EGvWzYDXRX-V"
      },
      "source": [
        "## Optimization"
      ],
      "id": "EGvWzYDXRX-V"
    },
    {
      "cell_type": "markdown",
      "metadata": {
        "id": "62L2qjEsRX-V"
      },
      "source": [
        "### linear regression 을 활용한 프로세스 변수 최적화\n",
        "- Stage4_2, Stage4_6 가 최적화 대상인 운전변수"
      ],
      "id": "62L2qjEsRX-V"
    },
    {
      "cell_type": "code",
      "execution_count": null,
      "metadata": {
        "id": "vCJQBgZXRX-V"
      },
      "outputs": [],
      "source": [
        "from scipy.optimize import minimize"
      ],
      "id": "vCJQBgZXRX-V"
    },
    {
      "cell_type": "code",
      "execution_count": null,
      "metadata": {
        "id": "-tjvBHdXRX-V"
      },
      "outputs": [],
      "source": [
        "# 활용할 Linear regression 의 결과물\n",
        "print('weight : ', lr.coef_[0])\n",
        "print('bias : ', lr.intercept_)\n",
        "\n",
        "coef_df = pd.DataFrame(lr.coef_, columns = list(train_x.columns))\n",
        "control_weight, not_weight = np.array(coef_df[['x_1', 'x_2']]), np.array(coef_df.drop(columns = ['x_1', 'x_2']))"
      ],
      "id": "-tjvBHdXRX-V"
    },
    {
      "cell_type": "code",
      "execution_count": null,
      "metadata": {
        "id": "XIEga87mRX-V"
      },
      "outputs": [],
      "source": [
        "# 최적화를 위한 class\n",
        "class optimize :\n",
        "    def __init__(self, control_data, not_data, control_weight, not_weight, intercept, target) :\n",
        "        self.control_data, self.not_data = control_data, not_data\n",
        "        self.control_weight, self.not_weight = control_weight, not_weight\n",
        "        self.intercept, self.target = intercept, target\n",
        "\n",
        "    def objective(self, x) :\n",
        "        \"\"\"\n",
        "        objective function 설계\n",
        "        return []\n",
        "        \"\"\"\n",
        "        pass\n",
        "\n",
        "    def solve(self) :\n",
        "        \"\"\"\n",
        "        solving 설계\n",
        "        sol = []\n",
        "        \"\"\"\n",
        "        return sol"
      ],
      "id": "XIEga87mRX-V"
    },
    {
      "cell_type": "code",
      "execution_count": null,
      "metadata": {
        "id": "lA7wIwBmRX-V"
      },
      "outputs": [],
      "source": [
        "# 최적화 대상 및 목표값\n",
        "target_data = test_df.iloc[-100]\n",
        "control_data, not_data = target_data[['x_1', 'x_2']], target_data.drop(['x_1', 'x_2', 'y'])\n",
        "print('Target Value : ', train_df['y'].mean())"
      ],
      "id": "lA7wIwBmRX-V"
    },
    {
      "cell_type": "code",
      "execution_count": null,
      "metadata": {
        "id": "FwM-aCsIRX-V"
      },
      "outputs": [],
      "source": [
        "# 최적화 진행 및 결과\n",
        "opt = optimize(control_data, not_data, control_weight, not_weight, lr.intercept_, train_df['y'].mean())\n",
        "sol = opt.solve()\n",
        "result_scipy = target_data.copy().drop(['y'])\n",
        "result_scipy[['x_1', 'x_2']] = sol.x"
      ],
      "id": "FwM-aCsIRX-V"
    },
    {
      "cell_type": "code",
      "execution_count": null,
      "metadata": {
        "id": "PJ-4x-R0RX-W"
      },
      "outputs": [],
      "source": [
        "# 결과 출력\n",
        "for c in ['x_1', 'x_2'] :\n",
        "    print('{} | original: {:.5f} | optimal: {:.5f}'.format(c, target_data[c].item(), result_scipy[c].item()))\n",
        "print('\\nOriginal Out Flow: ', lr.predict(np.array(target_data.drop(['y'])).reshape(1, -1)).item())\n",
        "print('Target y: ', train_df['y'].mean())\n",
        "print('Optimized Out Flow: {:.5f}'.format(lr.predict(np.array(result_scipy).reshape(1, -1)).item()))"
      ],
      "id": "PJ-4x-R0RX-W"
    },
    {
      "cell_type": "markdown",
      "metadata": {
        "id": "R7R0wN9MRX-W"
      },
      "source": [
        "### Genetic Algorithm"
      ],
      "id": "R7R0wN9MRX-W"
    },
    {
      "cell_type": "code",
      "execution_count": null,
      "metadata": {
        "id": "sdt3QrDGRX-W"
      },
      "outputs": [],
      "source": [
        "import GeneticAlgorithm  as GA"
      ],
      "id": "sdt3QrDGRX-W"
    },
    {
      "cell_type": "code",
      "execution_count": null,
      "metadata": {
        "id": "RGAwKGvoRX-W"
      },
      "outputs": [],
      "source": [
        "def custom_obj(features, additional, return_prediction=False) :\n",
        "    inputs = additional['data'].copy()\n",
        "    for k in features.keys() :\n",
        "        inputs[k] = features[k]\n",
        "    inputs = np.array(inputs).reshape(1, len(inputs))\n",
        "    m = additional['model']\n",
        "    t = additional['target']\n",
        "    prediction = m.predict(inputs)\n",
        "    v = (t - prediction)**2\n",
        "\n",
        "    ##### Do not change below #####\n",
        "    if not return_prediction :\n",
        "        return v\n",
        "    else :\n",
        "        return v, prediction"
      ],
      "id": "RGAwKGvoRX-W"
    },
    {
      "cell_type": "code",
      "execution_count": null,
      "metadata": {
        "id": "f6gYSEHlRX-W"
      },
      "outputs": [],
      "source": [
        "additional_info = {\n",
        "    'model' : model,\n",
        "    'data' : target_data.drop('y'),\n",
        "    'target' : train_df['y'].mean(),\n",
        "}\n",
        "\n",
        "\"\"\"\n",
        "The possible range of the features\n",
        "\"\"\"\n",
        "features_range = {\n",
        "    'x_1' : [0, 1],\n",
        "    'x_2' : [0, 1]\n",
        "}"
      ],
      "id": "f6gYSEHlRX-W"
    },
    {
      "cell_type": "code",
      "execution_count": null,
      "metadata": {
        "id": "dqwSqkC_RX-W"
      },
      "outputs": [],
      "source": [
        "\"\"\"\n",
        "Genetic Algorithm\n",
        "\n",
        "- Parameters\n",
        "n_population : Int / the number of units\n",
        "max_iteration : Int / the terminal point\n",
        "n_elite : Int / the number of elites\n",
        "mutation : Int / the number of mutation, there will be no mutation if set as 0\n",
        "optimize_to : Str / 'minimize' or 'maximize'\n",
        "early_stop : Int / Stop before max_iteration when the optimal value do not change, there will be no early stop if set as 0\n",
        "printing : Int /  Print the value of the iteration during running, there will be no printing if set as 0\n",
        "\n",
        "- Attributes\n",
        "iteration : Class \"iteration\" / initial and final iteration of GA at before and after running respectively\n",
        "best_unit : Class \"unit\" / The best unit after running\n",
        "best_features : List / The features of solution after running\n",
        "best_result : The optimal value of objective function after running\n",
        "\"\"\"\n",
        "n_population =  5\n",
        "n_elite = 2\n",
        "mutation = 1\n",
        "ga = GA(\n",
        "    n_population=n_population,\n",
        "    n_elite=n_elite,\n",
        "    mutation=mutation\n",
        ")\n",
        "ga.run(custom_obj, features_range, additional_info=additional_info)"
      ],
      "id": "dqwSqkC_RX-W"
    },
    {
      "cell_type": "code",
      "execution_count": null,
      "metadata": {
        "id": "3SdvTRwKRX-W"
      },
      "outputs": [],
      "source": [
        "\"\"\"\n",
        "Printing Result\n",
        "\"\"\"\n",
        "target_data = additional_info['data']\n",
        "_, ga_optimized = custom_obj(ga.best_features, additional_info, return_prediction=True)\n",
        "for k in ga.best_features.keys():\n",
        "    print('{} | original: {:.5f} | optimal: {:.5f}'.format(k, target_data[k].item(), ga.best_features[k]))\n",
        "print('\\nOriginal y: ', model.predict(np.array(target_data).reshape(1, -1)).item())\n",
        "print('Target y: ', additional_info['target'])\n",
        "print('Optimized y: {:.5f}'.format(ga_optimized[0]))"
      ],
      "id": "3SdvTRwKRX-W"
    },
    {
      "cell_type": "code",
      "execution_count": null,
      "metadata": {
        "id": "_795EloSRX-X"
      },
      "outputs": [],
      "source": [],
      "id": "_795EloSRX-X"
    },
    {
      "cell_type": "code",
      "execution_count": null,
      "metadata": {
        "id": "qpc7zQPPRX-X"
      },
      "outputs": [],
      "source": [],
      "id": "qpc7zQPPRX-X"
    },
    {
      "cell_type": "code",
      "execution_count": null,
      "id": "fa3ba67a",
      "metadata": {
        "id": "fa3ba67a"
      },
      "outputs": [],
      "source": []
    },
    {
      "cell_type": "code",
      "execution_count": null,
      "id": "0a3b9bc3",
      "metadata": {
        "id": "0a3b9bc3"
      },
      "outputs": [],
      "source": []
    }
  ],
  "metadata": {
    "kernelspec": {
      "display_name": "base",
      "language": "python",
      "name": "python3"
    },
    "language_info": {
      "codemirror_mode": {
        "name": "ipython",
        "version": 3
      },
      "file_extension": ".py",
      "mimetype": "text/x-python",
      "name": "python",
      "nbconvert_exporter": "python",
      "pygments_lexer": "ipython3",
      "version": "3.7.11"
    },
    "vscode": {
      "interpreter": {
        "hash": "4b070b103f3d88e906818c37ba5504fa6e36479c2cc11b81afe3749b2858e49e"
      }
    },
    "colab": {
      "provenance": [],
      "include_colab_link": true
    }
  },
  "nbformat": 4,
  "nbformat_minor": 5
}